{
 "cells": [
  {
   "cell_type": "code",
   "execution_count": 7,
   "metadata": {},
   "outputs": [],
   "source": [
    "measures = []\n",
    "import json \n",
    "with open(\"so_escrita_5m_menos_certo_pega.txt\") as json_file:\n",
    "    data = json.load(json_file)\n",
    "    \n",
    "    for p in data:\n",
    "        p.pop('ConnectionInfo')\n",
    "        p.pop('IsWritesRunning')\n",
    "        p.pop('RunningDriver')\n",
    "        p.pop('ClientDrivers')\n",
    "        p.pop('RunningReadLoadPattern')\n",
    "        p.pop('IsReadsRunning')\n",
    "        p.pop('LoadPatterns')\n",
    "        p.pop('RunningWriteLoadPattern')\n",
    "        p.pop('IsBackfillRunning')\n",
    "        p.pop('DriverConfig')\n",
    "        \n",
    "        for k,v in p['Stats'].items():\n",
    "            if k =='documentation':\n",
    "                continue\n",
    "            p[k] = v\n",
    "        p.pop('Stats')\n",
    "        measures.append(p)"
   ]
  },
  {
   "cell_type": "code",
   "execution_count": 8,
   "metadata": {},
   "outputs": [],
   "source": [
    "f = open(\"5m_menos_so_escrita__JSON__.json\", \"w\")\n",
    "d = json.dumps(measures)\n",
    "f.write(d)\n",
    "f.close()"
   ]
  }
 ],
 "metadata": {
  "kernelspec": {
   "display_name": "Python 3",
   "language": "python",
   "name": "python3"
  },
  "language_info": {
   "codemirror_mode": {
    "name": "ipython",
    "version": 2
   },
   "file_extension": ".py",
   "mimetype": "text/x-python",
   "name": "python",
   "nbconvert_exporter": "python",
   "pygments_lexer": "ipython2",
   "version": "2.7.13"
  }
 },
 "nbformat": 4,
 "nbformat_minor": 2
}
